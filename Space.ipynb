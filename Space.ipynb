{
 "cells": [
  {
   "cell_type": "markdown",
   "id": "55eaf1dd",
   "metadata": {},
   "source": [
    "This project tend to predict if a passenger was transported into another dimesion during the space travel."
   ]
  },
  {
   "cell_type": "code",
   "execution_count": 87,
   "id": "c7c1322c",
   "metadata": {},
   "outputs": [],
   "source": [
    "from matplotlib import pyplot as plt\n",
    "import numpy as np\n",
    "import pandas as pd\n",
    "import seaborn as sns"
   ]
  },
  {
   "cell_type": "code",
   "execution_count": 2,
   "id": "f77dadf5",
   "metadata": {},
   "outputs": [],
   "source": [
    "csv_file = 'train.csv'\n",
    "data = pd.read_csv(csv_file)"
   ]
  },
  {
   "cell_type": "markdown",
   "id": "b45a8d74",
   "metadata": {},
   "source": [
    "    #PassengerId - A unique Id for each passenger. Each Id takes the form gggg_pp where gggg indicates a group the passenger is travelling with and pp is their number within the group. People in a group are often family members, but not always.\n",
    "    #HomePlanet - The planet the passenger departed from, typically their planet of permanent residence.\n",
    "    #CryoSleep - Indicates whether the passenger elected to be put into suspended animation for the duration of the  voyage. Passengers in cryosleep are confined to their cabins.\n",
    "    #Cabin - The cabin number where the passenger is staying. Takes the form deck/num/side, where side can be either P for Port or S for Starboard.\n",
    "    Destination - The planet the passenger will be debarking to.\n",
    "    #Age - The age of the passenger.\n",
    "    #VIP - Whether the passenger has paid for special VIP service during the voyage.\n",
    "    #RoomService, FoodCourt, ShoppingMall, Spa, VRDeck - Amount the passenger has billed at each of the Spaceship Titanic's many luxury amenities.\n",
    "    #Name - The first and last names of the passenger.\n",
    "    #Transported - Whether the passenger was transported to another dimension. This is the target, the column you are trying to predict."
   ]
  },
  {
   "cell_type": "code",
   "execution_count": 88,
   "id": "ce2d415b",
   "metadata": {},
   "outputs": [
    {
     "data": {
      "text/html": [
       "<div>\n",
       "<style scoped>\n",
       "    .dataframe tbody tr th:only-of-type {\n",
       "        vertical-align: middle;\n",
       "    }\n",
       "\n",
       "    .dataframe tbody tr th {\n",
       "        vertical-align: top;\n",
       "    }\n",
       "\n",
       "    .dataframe thead th {\n",
       "        text-align: right;\n",
       "    }\n",
       "</style>\n",
       "<table border=\"1\" class=\"dataframe\">\n",
       "  <thead>\n",
       "    <tr style=\"text-align: right;\">\n",
       "      <th></th>\n",
       "      <th>PassengerId</th>\n",
       "      <th>HomePlanet</th>\n",
       "      <th>CryoSleep</th>\n",
       "      <th>Sector</th>\n",
       "      <th>Side</th>\n",
       "      <th>Cabin</th>\n",
       "      <th>Destination</th>\n",
       "      <th>Age</th>\n",
       "      <th>VIP</th>\n",
       "      <th>RoomService</th>\n",
       "      <th>FoodCourt</th>\n",
       "      <th>ShoppingMall</th>\n",
       "      <th>Spa</th>\n",
       "      <th>VRDeck</th>\n",
       "      <th>Name</th>\n",
       "      <th>Transported</th>\n",
       "    </tr>\n",
       "  </thead>\n",
       "  <tbody>\n",
       "    <tr>\n",
       "      <th>0</th>\n",
       "      <td>0001_01</td>\n",
       "      <td>Europa</td>\n",
       "      <td>False</td>\n",
       "      <td>B</td>\n",
       "      <td>P</td>\n",
       "      <td>B/0/P</td>\n",
       "      <td>TRAPPIST-1e</td>\n",
       "      <td>39</td>\n",
       "      <td>False</td>\n",
       "      <td>0.0</td>\n",
       "      <td>0.0</td>\n",
       "      <td>0.0</td>\n",
       "      <td>0.0</td>\n",
       "      <td>0.0</td>\n",
       "      <td>Maham Ofracculy</td>\n",
       "      <td>False</td>\n",
       "    </tr>\n",
       "    <tr>\n",
       "      <th>1</th>\n",
       "      <td>0002_01</td>\n",
       "      <td>Earth</td>\n",
       "      <td>False</td>\n",
       "      <td>F</td>\n",
       "      <td>S</td>\n",
       "      <td>F/0/S</td>\n",
       "      <td>TRAPPIST-1e</td>\n",
       "      <td>24</td>\n",
       "      <td>False</td>\n",
       "      <td>109.0</td>\n",
       "      <td>9.0</td>\n",
       "      <td>25.0</td>\n",
       "      <td>549.0</td>\n",
       "      <td>44.0</td>\n",
       "      <td>Juanna Vines</td>\n",
       "      <td>True</td>\n",
       "    </tr>\n",
       "    <tr>\n",
       "      <th>2</th>\n",
       "      <td>0003_01</td>\n",
       "      <td>Europa</td>\n",
       "      <td>False</td>\n",
       "      <td>A</td>\n",
       "      <td>S</td>\n",
       "      <td>A/0/S</td>\n",
       "      <td>TRAPPIST-1e</td>\n",
       "      <td>58</td>\n",
       "      <td>True</td>\n",
       "      <td>43.0</td>\n",
       "      <td>3576.0</td>\n",
       "      <td>0.0</td>\n",
       "      <td>6715.0</td>\n",
       "      <td>49.0</td>\n",
       "      <td>Altark Susent</td>\n",
       "      <td>False</td>\n",
       "    </tr>\n",
       "    <tr>\n",
       "      <th>3</th>\n",
       "      <td>0003_02</td>\n",
       "      <td>Europa</td>\n",
       "      <td>False</td>\n",
       "      <td>A</td>\n",
       "      <td>S</td>\n",
       "      <td>A/0/S</td>\n",
       "      <td>TRAPPIST-1e</td>\n",
       "      <td>33</td>\n",
       "      <td>False</td>\n",
       "      <td>0.0</td>\n",
       "      <td>1283.0</td>\n",
       "      <td>371.0</td>\n",
       "      <td>3329.0</td>\n",
       "      <td>193.0</td>\n",
       "      <td>Solam Susent</td>\n",
       "      <td>False</td>\n",
       "    </tr>\n",
       "    <tr>\n",
       "      <th>4</th>\n",
       "      <td>0004_01</td>\n",
       "      <td>Earth</td>\n",
       "      <td>False</td>\n",
       "      <td>F</td>\n",
       "      <td>S</td>\n",
       "      <td>F/1/S</td>\n",
       "      <td>TRAPPIST-1e</td>\n",
       "      <td>16</td>\n",
       "      <td>False</td>\n",
       "      <td>303.0</td>\n",
       "      <td>70.0</td>\n",
       "      <td>151.0</td>\n",
       "      <td>565.0</td>\n",
       "      <td>2.0</td>\n",
       "      <td>Willy Santantines</td>\n",
       "      <td>True</td>\n",
       "    </tr>\n",
       "  </tbody>\n",
       "</table>\n",
       "</div>"
      ],
      "text/plain": [
       "  PassengerId HomePlanet  CryoSleep Sector Side  Cabin  Destination  Age  \\\n",
       "0     0001_01     Europa      False      B    P  B/0/P  TRAPPIST-1e   39   \n",
       "1     0002_01      Earth      False      F    S  F/0/S  TRAPPIST-1e   24   \n",
       "2     0003_01     Europa      False      A    S  A/0/S  TRAPPIST-1e   58   \n",
       "3     0003_02     Europa      False      A    S  A/0/S  TRAPPIST-1e   33   \n",
       "4     0004_01      Earth      False      F    S  F/1/S  TRAPPIST-1e   16   \n",
       "\n",
       "     VIP  RoomService  FoodCourt  ShoppingMall     Spa  VRDeck  \\\n",
       "0  False          0.0        0.0           0.0     0.0     0.0   \n",
       "1  False        109.0        9.0          25.0   549.0    44.0   \n",
       "2   True         43.0     3576.0           0.0  6715.0    49.0   \n",
       "3  False          0.0     1283.0         371.0  3329.0   193.0   \n",
       "4  False        303.0       70.0         151.0   565.0     2.0   \n",
       "\n",
       "                Name  Transported  \n",
       "0    Maham Ofracculy        False  \n",
       "1       Juanna Vines         True  \n",
       "2      Altark Susent        False  \n",
       "3       Solam Susent        False  \n",
       "4  Willy Santantines         True  "
      ]
     },
     "execution_count": 88,
     "metadata": {},
     "output_type": "execute_result"
    }
   ],
   "source": [
    "data.head()"
   ]
  },
  {
   "cell_type": "markdown",
   "id": "47d0e092",
   "metadata": {},
   "source": [
    "Checking the missing values, is obviously that there are some missing value in column 'HomePlanet', 'CryoSleep','Cabin','Destination','Age'..."
   ]
  },
  {
   "cell_type": "code",
   "execution_count": 89,
   "id": "7b51e7e4",
   "metadata": {},
   "outputs": [
    {
     "name": "stdout",
     "output_type": "stream",
     "text": [
      "<class 'pandas.core.frame.DataFrame'>\n",
      "RangeIndex: 8693 entries, 0 to 8692\n",
      "Data columns (total 16 columns):\n",
      " #   Column        Non-Null Count  Dtype  \n",
      "---  ------        --------------  -----  \n",
      " 0   PassengerId   8693 non-null   object \n",
      " 1   HomePlanet    8693 non-null   object \n",
      " 2   CryoSleep     8693 non-null   bool   \n",
      " 3   Sector        8494 non-null   object \n",
      " 4   Side          8494 non-null   object \n",
      " 5   Cabin         8494 non-null   object \n",
      " 6   Destination   8511 non-null   object \n",
      " 7   Age           8693 non-null   int64  \n",
      " 8   VIP           8693 non-null   bool   \n",
      " 9   RoomService   8693 non-null   float64\n",
      " 10  FoodCourt     8693 non-null   float64\n",
      " 11  ShoppingMall  8693 non-null   float64\n",
      " 12  Spa           8693 non-null   float64\n",
      " 13  VRDeck        8693 non-null   float64\n",
      " 14  Name          8493 non-null   object \n",
      " 15  Transported   8693 non-null   bool   \n",
      "dtypes: bool(3), float64(5), int64(1), object(7)\n",
      "memory usage: 908.5+ KB\n"
     ]
    }
   ],
   "source": [
    "data.info()"
   ]
  },
  {
   "cell_type": "markdown",
   "id": "29cfc7f7",
   "metadata": {},
   "source": [
    "Since the people on the spaceship, no matter where the HomePlante and the Destination there are, the routine of the spaceship is settled, so it doesnt important where they from and go, in these case, since the homeplanet have some missing value, and by check the number of each planet, one possbile solution it to replace the missing value to Earth since it has most value."
   ]
  },
  {
   "cell_type": "code",
   "execution_count": 5,
   "id": "59a70c5b",
   "metadata": {},
   "outputs": [
    {
     "data": {
      "text/plain": [
       "Earth     4602\n",
       "Europa    2131\n",
       "Mars      1759\n",
       "Name: HomePlanet, dtype: int64"
      ]
     },
     "execution_count": 5,
     "metadata": {},
     "output_type": "execute_result"
    }
   ],
   "source": [
    "data.HomePlanet.value_counts()"
   ]
  },
  {
   "cell_type": "code",
   "execution_count": 6,
   "id": "6cff674d",
   "metadata": {},
   "outputs": [],
   "source": [
    "data.HomePlanet = data.HomePlanet.fillna('Earth')"
   ]
  },
  {
   "cell_type": "markdown",
   "id": "ab1f6f33",
   "metadata": {},
   "source": [
    "Same as the CryoSleep, the difference between crypslepet or not is high, what if the cryosleep or not may depend on other element, in this scenario, neaerly all the people in the missing cryosleep value is not a VIP. By checking the value in VIP, it also support that there is high possibility that if a person is not a VIP, he may not cryosleep as well."
   ]
  },
  {
   "cell_type": "code",
   "execution_count": 7,
   "id": "be3e0970",
   "metadata": {},
   "outputs": [
    {
     "data": {
      "text/plain": [
       "False    5439\n",
       "True     3037\n",
       "Name: CryoSleep, dtype: int64"
      ]
     },
     "execution_count": 7,
     "metadata": {},
     "output_type": "execute_result"
    }
   ],
   "source": [
    "data.CryoSleep.value_counts()"
   ]
  },
  {
   "cell_type": "code",
   "execution_count": 8,
   "id": "cce6ad81",
   "metadata": {},
   "outputs": [
    {
     "data": {
      "text/plain": [
       "False    207\n",
       "True       3\n",
       "Name: VIP, dtype: int64"
      ]
     },
     "execution_count": 8,
     "metadata": {},
     "output_type": "execute_result"
    }
   ],
   "source": [
    "data[data.CryoSleep.isnull()]['VIP'].value_counts()"
   ]
  },
  {
   "cell_type": "code",
   "execution_count": 9,
   "id": "a6fc8555",
   "metadata": {},
   "outputs": [
    {
     "data": {
      "text/plain": [
       "False    5143\n",
       "True     2941\n",
       "Name: CryoSleep, dtype: int64"
      ]
     },
     "execution_count": 9,
     "metadata": {},
     "output_type": "execute_result"
    }
   ],
   "source": [
    "data[data.VIP==False]['CryoSleep'].value_counts()"
   ]
  },
  {
   "cell_type": "code",
   "execution_count": 97,
   "id": "f9e95f56",
   "metadata": {},
   "outputs": [
    {
     "data": {
      "text/plain": [
       "False    306\n",
       "True      96\n",
       "Name: CryoSleep, dtype: int64"
      ]
     },
     "execution_count": 97,
     "metadata": {},
     "output_type": "execute_result"
    }
   ],
   "source": [
    "data[data.VIP==True]['CryoSleep'].value_counts()"
   ]
  },
  {
   "cell_type": "code",
   "execution_count": 10,
   "id": "77fc46a7",
   "metadata": {},
   "outputs": [],
   "source": [
    "data.CryoSleep = data.CryoSleep.fillna(False)"
   ]
  },
  {
   "cell_type": "markdown",
   "id": "61cbbc99",
   "metadata": {},
   "source": [
    "For the missing value in the destination, most people go to TRAPPIST-1e, but as describe before, the routine is settled, so it dont matter which destination they go to."
   ]
  },
  {
   "cell_type": "code",
   "execution_count": 11,
   "id": "de6089ff",
   "metadata": {},
   "outputs": [
    {
     "data": {
      "text/plain": [
       "TRAPPIST-1e      5915\n",
       "55 Cancri e      1800\n",
       "PSO J318.5-22     796\n",
       "Name: Destination, dtype: int64"
      ]
     },
     "execution_count": 11,
     "metadata": {},
     "output_type": "execute_result"
    }
   ],
   "source": [
    "data.Destination.value_counts()"
   ]
  },
  {
   "cell_type": "markdown",
   "id": "d37fceba",
   "metadata": {},
   "source": [
    "For the age, the mean and median are nearly same, so 27 or 28 are okey."
   ]
  },
  {
   "cell_type": "code",
   "execution_count": 90,
   "id": "71870962",
   "metadata": {},
   "outputs": [
    {
     "data": {
      "text/plain": [
       "count    8693.000000\n",
       "mean       28.790291\n",
       "std        14.341404\n",
       "min         0.000000\n",
       "25%        20.000000\n",
       "50%        27.000000\n",
       "75%        37.000000\n",
       "max        79.000000\n",
       "Name: Age, dtype: float64"
      ]
     },
     "execution_count": 90,
     "metadata": {},
     "output_type": "execute_result"
    }
   ],
   "source": [
    "data.Age.describe()"
   ]
  },
  {
   "cell_type": "code",
   "execution_count": 91,
   "id": "c5f5fe61",
   "metadata": {},
   "outputs": [
    {
     "data": {
      "text/plain": [
       "27.0"
      ]
     },
     "execution_count": 91,
     "metadata": {},
     "output_type": "execute_result"
    }
   ],
   "source": [
    "data.Age.median()"
   ]
  },
  {
   "cell_type": "code",
   "execution_count": 92,
   "id": "71ec6f31",
   "metadata": {},
   "outputs": [],
   "source": [
    "data.Age = data.Age.fillna(data.Age.median())"
   ]
  },
  {
   "cell_type": "code",
   "execution_count": 93,
   "id": "b0882c97",
   "metadata": {},
   "outputs": [],
   "source": [
    "data.Age = data.Age.astype('int')"
   ]
  },
  {
   "cell_type": "markdown",
   "id": "c23ec123",
   "metadata": {},
   "source": [
    "All most every people not is VIP, so the missing value could also none VIP."
   ]
  },
  {
   "cell_type": "code",
   "execution_count": 96,
   "id": "477e73bf",
   "metadata": {},
   "outputs": [
    {
     "data": {
      "text/plain": [
       "False    8291\n",
       "True      402\n",
       "Name: VIP, dtype: int64"
      ]
     },
     "execution_count": 96,
     "metadata": {},
     "output_type": "execute_result"
    }
   ],
   "source": [
    "data.VIP.value_counts()"
   ]
  },
  {
   "cell_type": "code",
   "execution_count": 17,
   "id": "852a1039",
   "metadata": {},
   "outputs": [],
   "source": [
    "data.VIP = data.VIP.fillna('False')\n",
    "data.VIP = data.VIP.astype('bool')"
   ]
  },
  {
   "cell_type": "markdown",
   "id": "47022b42",
   "metadata": {},
   "source": [
    "These 4 columns, since it all related to cosuming, so the minimum of the cosuming is 0, and it could be reasonable to replace the missing value with 0"
   ]
  },
  {
   "cell_type": "code",
   "execution_count": 18,
   "id": "73fb3121",
   "metadata": {},
   "outputs": [],
   "source": [
    "data.fillna({'RoomService':0,'FoodCourt':0,'ShoppingMall':0,'Spa':0,'VRDeck':0},inplace=True)"
   ]
  },
  {
   "cell_type": "markdown",
   "id": "6e5a6979",
   "metadata": {},
   "source": [
    "The cabin is formed by the sector, number and the side, we need the info about sector and side, by applying the function to extract the info we need."
   ]
  },
  {
   "cell_type": "code",
   "execution_count": 20,
   "id": "4c6663e0",
   "metadata": {},
   "outputs": [],
   "source": [
    "def sector(x):\n",
    "    if type(x)!=float:\n",
    "        return x[0]\n",
    "def side(x):\n",
    "    if type(x)!=float:\n",
    "        return x[-1]\n",
    "Sector = data.Cabin.apply(sector)\n",
    "Side = data.Cabin.apply(side)"
   ]
  },
  {
   "cell_type": "code",
   "execution_count": 21,
   "id": "b5ad6268",
   "metadata": {},
   "outputs": [],
   "source": [
    "data.insert(3,column='Sector',value=Sector)\n",
    "data.insert(4,column='Side',value=Side)"
   ]
  },
  {
   "cell_type": "code",
   "execution_count": 22,
   "id": "ddeeb1ea",
   "metadata": {},
   "outputs": [],
   "source": [
    "train_data = data.copy()"
   ]
  },
  {
   "cell_type": "code",
   "execution_count": 23,
   "id": "7979c1b5",
   "metadata": {
    "scrolled": true
   },
   "outputs": [
    {
     "data": {
      "text/html": [
       "<div>\n",
       "<style scoped>\n",
       "    .dataframe tbody tr th:only-of-type {\n",
       "        vertical-align: middle;\n",
       "    }\n",
       "\n",
       "    .dataframe tbody tr th {\n",
       "        vertical-align: top;\n",
       "    }\n",
       "\n",
       "    .dataframe thead th {\n",
       "        text-align: right;\n",
       "    }\n",
       "</style>\n",
       "<table border=\"1\" class=\"dataframe\">\n",
       "  <thead>\n",
       "    <tr style=\"text-align: right;\">\n",
       "      <th></th>\n",
       "      <th>Age</th>\n",
       "      <th>RoomService</th>\n",
       "      <th>FoodCourt</th>\n",
       "      <th>ShoppingMall</th>\n",
       "      <th>Spa</th>\n",
       "      <th>VRDeck</th>\n",
       "    </tr>\n",
       "  </thead>\n",
       "  <tbody>\n",
       "    <tr>\n",
       "      <th>count</th>\n",
       "      <td>8693.000000</td>\n",
       "      <td>8693.000000</td>\n",
       "      <td>8693.000000</td>\n",
       "      <td>8693.000000</td>\n",
       "      <td>8693.000000</td>\n",
       "      <td>8693.000000</td>\n",
       "    </tr>\n",
       "    <tr>\n",
       "      <th>mean</th>\n",
       "      <td>28.790291</td>\n",
       "      <td>220.009318</td>\n",
       "      <td>448.434027</td>\n",
       "      <td>169.572300</td>\n",
       "      <td>304.588865</td>\n",
       "      <td>298.261820</td>\n",
       "    </tr>\n",
       "    <tr>\n",
       "      <th>std</th>\n",
       "      <td>14.341404</td>\n",
       "      <td>660.519050</td>\n",
       "      <td>1595.790627</td>\n",
       "      <td>598.007164</td>\n",
       "      <td>1125.562559</td>\n",
       "      <td>1134.126417</td>\n",
       "    </tr>\n",
       "    <tr>\n",
       "      <th>min</th>\n",
       "      <td>0.000000</td>\n",
       "      <td>0.000000</td>\n",
       "      <td>0.000000</td>\n",
       "      <td>0.000000</td>\n",
       "      <td>0.000000</td>\n",
       "      <td>0.000000</td>\n",
       "    </tr>\n",
       "    <tr>\n",
       "      <th>25%</th>\n",
       "      <td>20.000000</td>\n",
       "      <td>0.000000</td>\n",
       "      <td>0.000000</td>\n",
       "      <td>0.000000</td>\n",
       "      <td>0.000000</td>\n",
       "      <td>0.000000</td>\n",
       "    </tr>\n",
       "    <tr>\n",
       "      <th>50%</th>\n",
       "      <td>27.000000</td>\n",
       "      <td>0.000000</td>\n",
       "      <td>0.000000</td>\n",
       "      <td>0.000000</td>\n",
       "      <td>0.000000</td>\n",
       "      <td>0.000000</td>\n",
       "    </tr>\n",
       "    <tr>\n",
       "      <th>75%</th>\n",
       "      <td>37.000000</td>\n",
       "      <td>41.000000</td>\n",
       "      <td>61.000000</td>\n",
       "      <td>22.000000</td>\n",
       "      <td>53.000000</td>\n",
       "      <td>40.000000</td>\n",
       "    </tr>\n",
       "    <tr>\n",
       "      <th>max</th>\n",
       "      <td>79.000000</td>\n",
       "      <td>14327.000000</td>\n",
       "      <td>29813.000000</td>\n",
       "      <td>23492.000000</td>\n",
       "      <td>22408.000000</td>\n",
       "      <td>24133.000000</td>\n",
       "    </tr>\n",
       "  </tbody>\n",
       "</table>\n",
       "</div>"
      ],
      "text/plain": [
       "               Age   RoomService     FoodCourt  ShoppingMall           Spa  \\\n",
       "count  8693.000000   8693.000000   8693.000000   8693.000000   8693.000000   \n",
       "mean     28.790291    220.009318    448.434027    169.572300    304.588865   \n",
       "std      14.341404    660.519050   1595.790627    598.007164   1125.562559   \n",
       "min       0.000000      0.000000      0.000000      0.000000      0.000000   \n",
       "25%      20.000000      0.000000      0.000000      0.000000      0.000000   \n",
       "50%      27.000000      0.000000      0.000000      0.000000      0.000000   \n",
       "75%      37.000000     41.000000     61.000000     22.000000     53.000000   \n",
       "max      79.000000  14327.000000  29813.000000  23492.000000  22408.000000   \n",
       "\n",
       "             VRDeck  \n",
       "count   8693.000000  \n",
       "mean     298.261820  \n",
       "std     1134.126417  \n",
       "min        0.000000  \n",
       "25%        0.000000  \n",
       "50%        0.000000  \n",
       "75%       40.000000  \n",
       "max    24133.000000  "
      ]
     },
     "execution_count": 23,
     "metadata": {},
     "output_type": "execute_result"
    }
   ],
   "source": [
    "train_data.describe()"
   ]
  },
  {
   "cell_type": "markdown",
   "id": "6e8ec2b2",
   "metadata": {},
   "source": [
    "Using labelencoder to transform the non-string value to category value."
   ]
  },
  {
   "cell_type": "code",
   "execution_count": 24,
   "id": "88b6692a",
   "metadata": {},
   "outputs": [],
   "source": [
    "from sklearn.preprocessing import LabelEncoder"
   ]
  },
  {
   "cell_type": "code",
   "execution_count": 25,
   "id": "aa16cf6f",
   "metadata": {},
   "outputs": [],
   "source": [
    "encoder = LabelEncoder()"
   ]
  },
  {
   "cell_type": "markdown",
   "id": "52f8a896",
   "metadata": {},
   "source": [
    "0 indicate that person didnt transported and 1 indiccate that person has been transported."
   ]
  },
  {
   "cell_type": "code",
   "execution_count": 26,
   "id": "279f91de",
   "metadata": {},
   "outputs": [
    {
     "data": {
      "text/plain": [
       "array([False,  True])"
      ]
     },
     "execution_count": 26,
     "metadata": {},
     "output_type": "execute_result"
    }
   ],
   "source": [
    "train_data.Transported = encoder.fit_transform(train_data.Transported)\n",
    "train_data.VIP = encoder.fit_transform(train_data.VIP)\n",
    "train_data.CryoSleep = encoder.fit_transform(train_data.CryoSleep)\n",
    "encoder.classes_"
   ]
  },
  {
   "cell_type": "code",
   "execution_count": 37,
   "id": "97acc779",
   "metadata": {},
   "outputs": [],
   "source": [
    "#train_data.drop(columns=['PassengerId','Cabin','Destination','Name'],inplace=True)\n",
    "X = train_data.drop(columns='Transported')\n",
    "Y = train_data.Transported\n",
    "X.Sector = encoder.fit_transform(train_x.Sector)\n",
    "X.Side = encoder.fit_transform(train_x.Side)\n",
    "X.HomePlanet = encoder.fit_transform(train_x.HomePlanet)"
   ]
  },
  {
   "cell_type": "markdown",
   "id": "a69eb230",
   "metadata": {},
   "source": [
    "Split the data with train:test = 0.7:0.3"
   ]
  },
  {
   "cell_type": "code",
   "execution_count": 38,
   "id": "ce120b34",
   "metadata": {},
   "outputs": [],
   "source": [
    "from sklearn.model_selection import train_test_split"
   ]
  },
  {
   "cell_type": "code",
   "execution_count": 43,
   "id": "bf764f71",
   "metadata": {},
   "outputs": [],
   "source": [
    "train_x,test_x,train_y,test_y = train_test_split(X,Y,test_size=0.3)"
   ]
  },
  {
   "cell_type": "markdown",
   "id": "bc5ca2e5",
   "metadata": {},
   "source": [
    "Inspecting the countplot of transported people, the data is almost balanced."
   ]
  },
  {
   "cell_type": "code",
   "execution_count": 47,
   "id": "e6488f58",
   "metadata": {},
   "outputs": [
    {
     "name": "stderr",
     "output_type": "stream",
     "text": [
      "/Users/bearpapa/miniforge3/envs/py38/lib/python3.8/site-packages/seaborn/_decorators.py:36: FutureWarning: Pass the following variable as a keyword arg: x. From version 0.12, the only valid positional argument will be `data`, and passing other arguments without an explicit keyword will result in an error or misinterpretation.\n",
      "  warnings.warn(\n"
     ]
    },
    {
     "data": {
      "image/png": "[encoded data removed]",
      "text/plain": [
       "<Figure size 432x288 with 1 Axes>"
      ]
     },
     "metadata": {
      "needs_background": "light"
     },
     "output_type": "display_data"
    }
   ],
   "source": [
    "sns.countplot(Y)\n",
    "plt.title('Number of Transported peopele')\n",
    "plt.show()"
   ]
  },
  {
   "cell_type": "markdown",
   "id": "56930dff",
   "metadata": {},
   "source": [
    "Load the decision tree classifier and random forest classifier"
   ]
  },
  {
   "cell_type": "code",
   "execution_count": 48,
   "id": "ced1c5fa",
   "metadata": {},
   "outputs": [],
   "source": [
    "from sklearn.tree import DecisionTreeClassifier\n",
    "from sklearn.ensemble import RandomForestClassifier\n",
    "from sklearn.model_selection import cross_val_score\n",
    "from sklearn.metrics import plot_confusion_matrix,roc_curve,roc_auc_score,accuracy_score"
   ]
  },
  {
   "cell_type": "markdown",
   "id": "204691c2",
   "metadata": {},
   "source": [
    "Try a basic decision tree, and use cross_val to check the result"
   ]
  },
  {
   "cell_type": "code",
   "execution_count": 99,
   "id": "0ed388d1",
   "metadata": {},
   "outputs": [],
   "source": [
    "clf = DecisionTreeClassifier()\n",
    "clf.fit(train_x,train_y)\n",
    "cval = cross_val_score(clf,X=train_x,y=train_y,cv=10)"
   ]
  },
  {
   "cell_type": "markdown",
   "id": "7353b218",
   "metadata": {},
   "source": [
    "the accuracy is 74.34% and using the cross validation, the max accuracy is 76.15%"
   ]
  },
  {
   "cell_type": "code",
   "execution_count": 54,
   "id": "add0070c",
   "metadata": {},
   "outputs": [
    {
     "data": {
      "text/plain": [
       "0.7434815950920245"
      ]
     },
     "execution_count": 54,
     "metadata": {},
     "output_type": "execute_result"
    }
   ],
   "source": [
    "clf.score(test_x,test_y)"
   ]
  },
  {
   "cell_type": "code",
   "execution_count": 51,
   "id": "2ca001ff",
   "metadata": {},
   "outputs": [
    {
     "data": {
      "text/plain": [
       "array([0.75041051, 0.73563218, 0.72085386, 0.72413793, 0.75205255,\n",
       "       0.75328947, 0.74671053, 0.74671053, 0.73026316, 0.76151316])"
      ]
     },
     "execution_count": 51,
     "metadata": {},
     "output_type": "execute_result"
    }
   ],
   "source": [
    "cval"
   ]
  },
  {
   "cell_type": "markdown",
   "id": "78c9efdb",
   "metadata": {},
   "source": [
    "Plotting the confusion matrix on the test data, there 312 numbers of false negative, and 357 with false positive."
   ]
  },
  {
   "cell_type": "code",
   "execution_count": 52,
   "id": "1944af56",
   "metadata": {},
   "outputs": [
    {
     "name": "stderr",
     "output_type": "stream",
     "text": [
      "/Users/bearpapa/miniforge3/envs/py38/lib/python3.8/site-packages/sklearn/utils/deprecation.py:87: FutureWarning: Function plot_confusion_matrix is deprecated; Function `plot_confusion_matrix` is deprecated in 1.0 and will be removed in 1.2. Use one of the class methods: ConfusionMatrixDisplay.from_predictions or ConfusionMatrixDisplay.from_estimator.\n",
      "  warnings.warn(msg, category=FutureWarning)\n"
     ]
    },
    {
     "data": {
      "image/png": "[encoded data removed]",
      "text/plain": [
       "<Figure size 432x288 with 2 Axes>"
      ]
     },
     "metadata": {
      "needs_background": "light"
     },
     "output_type": "display_data"
    }
   ],
   "source": [
    "plot_confusion_matrix(clf,test_x,test_y)\n",
    "plt.show()"
   ]
  },
  {
   "cell_type": "code",
   "execution_count": 55,
   "id": "0a3ba0d5",
   "metadata": {},
   "outputs": [
    {
     "data": {
      "text/plain": [
       "[<matplotlib.lines.Line2D at 0x1492817f0>]"
      ]
     },
     "execution_count": 55,
     "metadata": {},
     "output_type": "execute_result"
    },
    {
     "data": {
      "image/png": "[encoded data removed]",
      "text/plain": [
       "<Figure size 432x288 with 1 Axes>"
      ]
     },
     "metadata": {
      "needs_background": "light"
     },
     "output_type": "display_data"
    }
   ],
   "source": [
    "fpr,tpr,threshold = roc_curve(test_y,clf.predict(test_x))\n",
    "plt.plot(fpr,tpr,linewidth=2)"
   ]
  },
  {
   "cell_type": "markdown",
   "id": "0ea4b63d",
   "metadata": {},
   "source": [
    "Checking the roc_auc_score, the result is not so ideal, but not that so worse."
   ]
  },
  {
   "cell_type": "code",
   "execution_count": 56,
   "id": "652ddc3d",
   "metadata": {},
   "outputs": [
    {
     "data": {
      "text/plain": [
       "0.7432312252964427"
      ]
     },
     "execution_count": 56,
     "metadata": {},
     "output_type": "execute_result"
    }
   ],
   "source": [
    "roc_auc_score(test_y,clf.predict(test_x))"
   ]
  },
  {
   "cell_type": "markdown",
   "id": "8fa17c4e",
   "metadata": {},
   "source": [
    "Using the GradientBoostingClassifier and also check the result."
   ]
  },
  {
   "cell_type": "code",
   "execution_count": 61,
   "id": "c9d55c38",
   "metadata": {},
   "outputs": [],
   "source": [
    "from sklearn.ensemble import GradientBoostingClassifier"
   ]
  },
  {
   "cell_type": "code",
   "execution_count": 62,
   "id": "cbc53783",
   "metadata": {},
   "outputs": [
    {
     "data": {
      "text/plain": [
       "GradientBoostingClassifier(random_state=42)"
      ]
     },
     "execution_count": 62,
     "metadata": {},
     "output_type": "execute_result"
    }
   ],
   "source": [
    "gbc = GradientBoostingClassifier(random_state=42,)\n",
    "gbc.fit(train_x,train_y)"
   ]
  },
  {
   "cell_type": "markdown",
   "id": "c69dbbee",
   "metadata": {},
   "source": [
    "The accuracy is 78.83%, which is better than the result in decision tree."
   ]
  },
  {
   "cell_type": "code",
   "execution_count": 64,
   "id": "eb1f0216",
   "metadata": {},
   "outputs": [
    {
     "data": {
      "text/plain": [
       "0.7883435582822086"
      ]
     },
     "execution_count": 64,
     "metadata": {},
     "output_type": "execute_result"
    }
   ],
   "source": [
    "gbc.score(test_x,test_y)"
   ]
  },
  {
   "cell_type": "markdown",
   "id": "df47fb52",
   "metadata": {},
   "source": [
    "the confusion matrix show there is less on false negative and slightly less on false positive."
   ]
  },
  {
   "cell_type": "code",
   "execution_count": 63,
   "id": "2b15cd71",
   "metadata": {},
   "outputs": [
    {
     "name": "stderr",
     "output_type": "stream",
     "text": [
      "/Users/bearpapa/miniforge3/envs/py38/lib/python3.8/site-packages/sklearn/utils/deprecation.py:87: FutureWarning: Function plot_confusion_matrix is deprecated; Function `plot_confusion_matrix` is deprecated in 1.0 and will be removed in 1.2. Use one of the class methods: ConfusionMatrixDisplay.from_predictions or ConfusionMatrixDisplay.from_estimator.\n",
      "  warnings.warn(msg, category=FutureWarning)\n"
     ]
    },
    {
     "data": {
      "image/png": "[encoded data removed]",
      "text/plain": [
       "<Figure size 432x288 with 2 Axes>"
      ]
     },
     "metadata": {
      "needs_background": "light"
     },
     "output_type": "display_data"
    }
   ],
   "source": [
    "plot_confusion_matrix(gbc,test_x,test_y)\n",
    "plt.show()"
   ]
  },
  {
   "cell_type": "markdown",
   "id": "29cf1052",
   "metadata": {},
   "source": [
    "The roc_auc_score also shows that gradientboosting classifier has better performance than decision tree classifier"
   ]
  },
  {
   "cell_type": "code",
   "execution_count": 65,
   "id": "687ddad2",
   "metadata": {},
   "outputs": [
    {
     "data": {
      "text/plain": [
       "0.7876811594202899"
      ]
     },
     "execution_count": 65,
     "metadata": {},
     "output_type": "execute_result"
    }
   ],
   "source": [
    "roc_auc_score(test_y,gbc.predict(test_x))"
   ]
  },
  {
   "cell_type": "markdown",
   "id": "afb1f6e4",
   "metadata": {},
   "source": [
    "Using grisearch to search to best param for the randomforest, and voting classifier"
   ]
  },
  {
   "cell_type": "code",
   "execution_count": 86,
   "id": "12f602e5",
   "metadata": {},
   "outputs": [],
   "source": [
    "from sklearn.ensemble import VotingClassifier\n",
    "from sklearn.model_selection import GridSearchCV"
   ]
  },
  {
   "cell_type": "code",
   "execution_count": 79,
   "id": "6e889f73",
   "metadata": {},
   "outputs": [],
   "source": [
    "param_grid = [{'n_estimators': [25, 50, 100], 'max_features': [2, 4, 6, 8]},\n",
    "              {'bootstrap': [False], 'n_estimators': [3, 10], 'max_features': [2, 3, 4]}]\n",
    "grid = GridSearchCV(ran_clf,param_grid,cv=10)"
   ]
  },
  {
   "cell_type": "code",
   "execution_count": 80,
   "id": "cb1e648c",
   "metadata": {},
   "outputs": [
    {
     "data": {
      "text/plain": [
       "GridSearchCV(cv=10, estimator=RandomForestClassifier(criterion='entropy'),\n",
       "             param_grid=[{'max_features': [2, 4, 6, 8],\n",
       "                          'n_estimators': [25, 50, 100]},\n",
       "                         {'bootstrap': [False], 'max_features': [2, 3, 4],\n",
       "                          'n_estimators': [3, 10]}])"
      ]
     },
     "execution_count": 80,
     "metadata": {},
     "output_type": "execute_result"
    }
   ],
   "source": [
    "grid.fit(train_x,train_y)"
   ]
  },
  {
   "cell_type": "markdown",
   "id": "1776af0c",
   "metadata": {},
   "source": [
    "Given the param, restore the best estimator, and the accuracy is 78.29%."
   ]
  },
  {
   "cell_type": "code",
   "execution_count": 83,
   "id": "65916bad",
   "metadata": {},
   "outputs": [],
   "source": [
    "new_ran_clf = grid.best_estimator_"
   ]
  },
  {
   "cell_type": "code",
   "execution_count": 82,
   "id": "73d6c769",
   "metadata": {},
   "outputs": [
    {
     "data": {
      "text/plain": [
       "0.7904675481807968"
      ]
     },
     "execution_count": 82,
     "metadata": {},
     "output_type": "execute_result"
    }
   ],
   "source": [
    "grid.best_score_"
   ]
  },
  {
   "cell_type": "code",
   "execution_count": 100,
   "id": "d1c8da7d",
   "metadata": {},
   "outputs": [
    {
     "data": {
      "text/plain": [
       "0.7829754601226994"
      ]
     },
     "execution_count": 100,
     "metadata": {},
     "output_type": "execute_result"
    }
   ],
   "source": [
    "new_ran_clf.score(test_x,test_y)"
   ]
  },
  {
   "cell_type": "markdown",
   "id": "fb9aa5ad",
   "metadata": {},
   "source": [
    "Using the voting classifier to vote the result by using the classifier trained early. The result is 78.68%, which is almost same as other classifier. "
   ]
  },
  {
   "cell_type": "code",
   "execution_count": 101,
   "id": "61d6d953",
   "metadata": {},
   "outputs": [
    {
     "data": {
      "text/plain": [
       "VotingClassifier(estimators=[('clf', DecisionTreeClassifier()),\n",
       "                             ('ran',\n",
       "                              RandomForestClassifier(criterion='entropy',\n",
       "                                                     max_features=6,\n",
       "                                                     n_estimators=50)),\n",
       "                             ('gbc',\n",
       "                              GradientBoostingClassifier(random_state=42))])"
      ]
     },
     "execution_count": 101,
     "metadata": {},
     "output_type": "execute_result"
    }
   ],
   "source": [
    "vc = VotingClassifier(estimators=[('clf',clf),('ran',new_ran_clf),('gbc',gbc)])\n",
    "vc.fit(train_x,train_y)"
   ]
  },
  {
   "cell_type": "code",
   "execution_count": 102,
   "id": "3f9810f0",
   "metadata": {},
   "outputs": [
    {
     "data": {
      "text/plain": [
       "0.7868098159509203"
      ]
     },
     "execution_count": 102,
     "metadata": {},
     "output_type": "execute_result"
    }
   ],
   "source": [
    "vc.score(test_x,test_y)"
   ]
  },
  {
   "cell_type": "markdown",
   "id": "cab71f9c",
   "metadata": {},
   "source": [
    " # Conclusion"
   ]
  },
  {
   "cell_type": "markdown",
   "id": "a9f09b6f",
   "metadata": {},
   "source": [
    "By cleaning the data, transform the data and extract the feature, using the different classifier and in the end, the result reach nearly 79%, noted that the best result in the field is 81%."
   ]
  },
  {
   "cell_type": "code",
   "execution_count": null,
   "id": "8c1d44cf",
   "metadata": {},
   "outputs": [],
   "source": []
  }
 ],
 "metadata": {
  "kernelspec": {
   "display_name": "Python 3 (ipykernel)",
   "language": "python",
   "name": "python3"
  },
  "language_info": {
   "codemirror_mode": {
    "name": "ipython",
    "version": 3
   },
   "file_extension": ".py",
   "mimetype": "text/x-python",
   "name": "python",
   "nbconvert_exporter": "python",
   "pygments_lexer": "ipython3",
   "version": "3.8.12"
  }
 },
 "nbformat": 4,
 "nbformat_minor": 5
}
